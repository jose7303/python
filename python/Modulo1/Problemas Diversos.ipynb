{
 "cells": [
  {
   "cell_type": "markdown",
   "metadata": {},
   "source": [
    "# PROBLEMAS DIVERSOS"
   ]
  },
  {
   "cell_type": "markdown",
   "metadata": {},
   "source": [
    "<h3>1.</h3>\n",
    "Imagina que acabas de abrir una nueva cuenta de ahorros que te ofrece el 4% de interés al año. Estos ahorros debido a intereses, que no se cobran hasta finales de año, se te añaden al balance final de tu cuenta de ahorros. Escribir un programa que comience leyendo la cantidad de dinero depositada en la cuenta de ahorros, introducida por el usuario. Después el programa debe calcular y mostrar por pantalla la cantidad de ahorros tras el primer, segundo y tercer años. Redondear cada cantidad a dos decimales."
   ]
  },
  {
   "cell_type": "markdown",
   "metadata": {},
   "source": [
    "<h3>Función</h3>  \n",
    "<p>verifica la entrada de un número decimal</p> "
   ]
  },
  {
   "cell_type": "code",
   "execution_count": null,
   "metadata": {},
   "outputs": [],
   "source": [
    "def vfloat_num(c):\n",
    "    '''\n",
    "    validar un flotante/racional\n",
    "\n",
    "    Parameters\n",
    "    ----------\n",
    "    c=str\n",
    "    Returns\n",
    "    -------\n",
    "    n=float\n",
    "    '''\n",
    "    while True:\n",
    "        try:\n",
    "            n=float(input(f\"{c} \"))\n",
    "            return n\n",
    "        except:\n",
    "         print(\"error , ingrese de nuevo\")"
   ]
  },
  {
   "cell_type": "markdown",
   "metadata": {},
   "source": [
    "<h3>Ingreso</h3>\n",
    "<ol>\n",
    " <li>Ingreso del monto inicial</li>\n",
    " <li>Ingreso del tiempo(en años):</li>\n",
    "    <ul>\n",
    "       <li>meses(convertirlo)</li>\n",
    "       <li>días(convertirlo)</li>\n",
    "    </ul>\n",
    " <li>Ingreso de la tasa de interés en\n",
    "     porcentaje</li> \n",
    "     <ul>\n",
    "       <li>Esto va a depender de la cantidad de           veces que divida el todo </li>\n",
    "     </ul>\n",
    " <li>Tasa de interés númerica</li>\n",
    "</ol>"
   ]
  },
  {
   "cell_type": "code",
   "execution_count": null,
   "metadata": {},
   "outputs": [],
   "source": [
    "C=\"tu a monto a ingresar: \"\n",
    "c=vfloat_num(C)\n",
    "\n",
    "T=\"tiempo: \"\n",
    "t=vfloat_num(T)\n",
    "\n",
    "\n",
    "I=\"tasa de interes: \"\n",
    "i=vfloat_num(I)\n",
    "\n",
    "j=i/100"
   ]
  },
  {
   "cell_type": "markdown",
   "metadata": {},
   "source": [
    "<h3>Salida</h3>\n",
    "<p>Calcula el monto final \n",
    "    de tu inversión en la cuenta de ahorro</p>\n",
    "<p>Puntos a tener en cuenta:</p>\n",
    "  <ul>\n",
    "    <li>El calculo esta hecho con interés               simple</li>\n",
    "    <li>El interés puede variar,depende de la           identidad financiera</li>\n",
    "  </ul>  "
   ]
  },
  {
   "cell_type": "code",
   "execution_count": null,
   "metadata": {},
   "outputs": [],
   "source": [
    "if t==int(t):\n",
    "    for i in range(1, int(t) + 1):\n",
    "        A = c * j * i\n",
    "        cf = c + A\n",
    "        print(f\"ahorro en el {i} año.- {cf: .2f}\")\n",
    "elif t!=int(t):\n",
    "    for i in [*range(1, int(t) + 1), t]:\n",
    "        A = c * j * i\n",
    "        cf = c + A\n",
    "        print(f\"ahorro en el {i} año.- {cf: .2f}\")\n"
   ]
  },
  {
   "cell_type": "markdown",
   "metadata": {},
   "source": [
    "### 2.\n",
    "Escriba un programa que pida los coeficientes de una ecuación de segundo grado <code>(a x² + b x + c = 0)</code> y escriba la solución.\n",
    "\n",
    "Se recuerda que una ecuación de segundo grado puede no tener solución, tener una solución única, tener dos soluciones o que todos los números sean solución."
   ]
  },
  {
   "cell_type": "markdown",
   "metadata": {},
   "source": [
    "<img src='https://i.pinimg.com/originals/d3/f7/01/d3f701528ad56ce0f5a98d7c91722fd7.png'>"
   ]
  },
  {
   "cell_type": "markdown",
   "metadata": {},
   "source": [
    "Su programa debe indicar:\n",
    "- En caso la ecuación cuadrática tenga solución real, su programa debe brindar la solución\n",
    "- En caso su ecuación no tenga solución real, su programa debe brindar un mensaje que diga \"Ecuación no presenta solución real\""
   ]
  },
  {
   "cell_type": "code",
   "execution_count": 1,
   "metadata": {},
   "outputs": [],
   "source": [
    "import math"
   ]
  },
  {
   "cell_type": "markdown",
   "metadata": {},
   "source": [
    "<h3>Ingreso</h3>\n",
    "<p>Coeficientes y discriminate</p>"
   ]
  },
  {
   "cell_type": "code",
   "execution_count": null,
   "metadata": {},
   "outputs": [],
   "source": [
    "print(\"Ecuación cuadrática\")\n",
    "print(\"'ax²+bx+c'\")\n",
    "\n",
    "A=\"ingrese a=\"\n",
    "a=vfloat_num(A)\n",
    "B=\"ingrese b=\"\n",
    "b=vfloat_num(B)\n",
    "C=\"ingrese c=\"\n",
    "c=vfloat_num(C)\n",
    "\n",
    "d=(b**2)-(4*a*c)\n",
    "print()"
   ]
  },
  {
   "cell_type": "markdown",
   "metadata": {},
   "source": [
    "<h3>Calculo</h3>\n",
    " <p>La salida va a depender del valor de la  \n",
    "    discriminante</p>"
   ]
  },
  {
   "cell_type": "code",
   "execution_count": null,
   "metadata": {},
   "outputs": [],
   "source": [
    "if d<0:\n",
    "    print(\"No hay soluciones reales\")\n",
    "elif d==0:\n",
    "    x = -(b) + (math.sqrt(d)) / 2 * a\n",
    "    print(f\"Hay dos soluciones repetidas\\n x={x}\")\n",
    "elif d>0:\n",
    "    x = (-(b) + (math.sqrt(d)) )/ (2*a)\n",
    "    x2 =(-(b) - (math.sqrt(d)) )/ (2*a)\n",
    "    print(f\"Hay dos soluciones diferentes\\n x1={x}\\n x2={x2}\")"
   ]
  }
 ],
 "metadata": {
  "kernelspec": {
   "display_name": "Python 3",
   "language": "python",
   "name": "python3"
  },
  "language_info": {
   "codemirror_mode": {
    "name": "ipython",
    "version": 3
   },
   "file_extension": ".py",
   "mimetype": "text/x-python",
   "name": "python",
   "nbconvert_exporter": "python",
   "pygments_lexer": "ipython3",
   "version": "3.8.5"
  }
 },
 "nbformat": 4,
 "nbformat_minor": 4
}
