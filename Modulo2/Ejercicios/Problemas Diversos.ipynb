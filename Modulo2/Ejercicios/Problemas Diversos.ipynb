{
 "cells": [
  {
   "cell_type": "markdown",
   "metadata": {},
   "source": [
    "# PROBLEMAS DIVERSOS"
   ]
  },
  {
   "cell_type": "markdown",
   "metadata": {},
   "source": [
    "<h3>Funciónes de validación</h3>\n",
    "<ol>\n",
    " <li>valida el ingreso de enteros  </li>\n",
    " <li>valida el ingreso de decimales</li>\n",
    "</ol>"
   ]
  },
  {
   "cell_type": "code",
   "execution_count": null,
   "metadata": {},
   "outputs": [],
   "source": [
    "def vint_num(c):\n",
    "    '''\n",
    "    validar un entero\n",
    "\n",
    "    Parameters\n",
    "    ----------\n",
    "    c=str\n",
    "    Returns\n",
    "    -------\n",
    "    n=int\n",
    "    '''\n",
    "    while True:\n",
    "        try:\n",
    "            n=int(input(f\"{c} \"))\n",
    "            return n\n",
    "        except:\n",
    "         print(\"error , ingrese de nuevo\")\n"
   ]
  },
  {
   "cell_type": "code",
   "execution_count": null,
   "metadata": {},
   "outputs": [],
   "source": [
    "def vfloat_num(c):\n",
    "    '''\n",
    "    validar un flotante/racional\n",
    "\n",
    "    Parameters\n",
    "    ----------\n",
    "    c=str\n",
    "    Returns\n",
    "    -------\n",
    "    n=float\n",
    "    '''\n",
    "    while True:\n",
    "        try:\n",
    "            n=float(input(f\"{c} \"))\n",
    "            return n\n",
    "        except:\n",
    "         print(\"error , ingrese de nuevo\")"
   ]
  },
  {
   "cell_type": "markdown",
   "metadata": {},
   "source": [
    "<h3>1.</h3>\n",
    "Realizar una función que permita la carga de n alumnos. Por cada alumno se deberá preguntar el nombre completo y permitir el ingreso de 3 notas. Las notas deben estar comprendidas entre 0 y 10. Devolver el listado de alumnos."
   ]
  },
  {
   "cell_type": "markdown",
   "metadata": {},
   "source": [
    "<h3>Función alumnos</h3>\n",
    "<ul>\n",
    "   <li>Parámetros:(Listas vacias)\n",
    "         <p>Para cada parámetros se almacena</p>\n",
    "       <ol>\n",
    "           <li>f:(alumnos)</li> \n",
    "           <li>g:(notas)</li>\n",
    "           <li>h:(notas sub agrupadas en 3)</li>\n",
    "       </ol>\n",
    "   </li>\n",
    "</ul>"
   ]
  },
  {
   "cell_type": "code",
   "execution_count": null,
   "metadata": {},
   "outputs": [],
   "source": [
    "def alumnos(f,g,h):\n",
    "  D=\"numeros de alumnos=\"\n",
    "  d=vint_num(D)\n",
    "\n",
    "  for i in range(d):\n",
    "      a=input(f\"nombre del {1+i} alumno=  \")\n",
    "      f.append(a)\n",
    "\n",
    "  for i in f:\n",
    "      print(f[f.index(i)])\n",
    "      for j in range(3):\n",
    "       B=f\"{j + 1} nota del  alumno=\"\n",
    "       b =vfloat_num(B)\n",
    "\n",
    "       while True:\n",
    "           if 0 <= b <= 10:\n",
    "              g.append(b)\n",
    "              break\n",
    "           else:\n",
    "              print()\n",
    "              print(\"valor invalido ingrese de nuevo\")\n",
    "              print(f[f.index(i)])\n",
    "              b=float(input(f\"{j + 1} nota del  alumno= \"))\n",
    "\n",
    "  for i in range(0, len(g), 3):\n",
    "      h.append(g[i:i+3])\n",
    "  print()\n",
    "  print(f)\n",
    "  print(h)"
   ]
  },
  {
   "cell_type": "markdown",
   "metadata": {},
   "source": [
    "<h3>Creación</h3>\n",
    "<p>De los parámetros</p>"
   ]
  },
  {
   "cell_type": "code",
   "execution_count": null,
   "metadata": {},
   "outputs": [],
   "source": [
    "f=[]\n",
    "g=[]\n",
    "h=[]\n",
    "\n",
    "alumnos(f,g,h)"
   ]
  },
  {
   "cell_type": "markdown",
   "metadata": {},
   "source": [
    "### 2.\n",
    "Definir una función que dado un listado de alumnos evalúe cuántos aprobaron y cuántos desaprobaron, teniendo en cuenta que se aprueba con 4. La nota será el promedio de las 3 notas para cada alumno."
   ]
  },
  {
   "cell_type": "markdown",
   "metadata": {},
   "source": [
    "<h3>Función alumnos</h3>\n",
    "<ul>\n",
    "   <li>Parámetros:(Listas vacias) <br/>\n",
    "        Para cada parámetros se almacena:\n",
    "       <ol>\n",
    "           <li>a:(notas promedio)</li> \n",
    "       </ol>\n",
    "   </li>\n",
    "   <li>Parámetros:(creado anteriormente)</li>\n",
    "      <ol>\n",
    "          <li>g:(lista)</li>    \n",
    "      </ol>    \n",
    "</ul>"
   ]
  },
  {
   "cell_type": "code",
   "execution_count": null,
   "metadata": {},
   "outputs": [],
   "source": [
    "def evalua(g,a):\n",
    "  t=0\n",
    "  u=0\n",
    "  for k in range(0, len(g), 3):\n",
    "     a.append(round(sum(g[k:k+3])/3,4))\n",
    "  print(a)\n",
    "  for i in a:\n",
    "     if 4<=i:\n",
    "        t+=1\n",
    "     if i<4:\n",
    "        u+=1\n",
    "  print(f\"Desaprobaron {u}\")\n",
    "  print(f\"Aprobaron {t}\")"
   ]
  },
  {
   "cell_type": "markdown",
   "metadata": {},
   "source": [
    "<h3>Creación</h3>\n",
    "<p>De los parámetros</p>"
   ]
  },
  {
   "cell_type": "code",
   "execution_count": null,
   "metadata": {},
   "outputs": [],
   "source": [
    "print()\n",
    "a=[]\n",
    "evalua(g,a)"
   ]
  },
  {
   "cell_type": "markdown",
   "metadata": {},
   "source": [
    "### 3.\n",
    "Informar el promedio de nota del curso total."
   ]
  },
  {
   "cell_type": "markdown",
   "metadata": {},
   "source": [
    "<h3>Función promedio</h3>\n",
    "<ul>\n",
    "   <li>Parámetros:(creado anteriormente)\n",
    "       <ol>\n",
    "           <li>a:(lista)</li> \n",
    "       </ol>\n",
    "   </li>\n",
    "</ul>"
   ]
  },
  {
   "cell_type": "code",
   "execution_count": null,
   "metadata": {},
   "outputs": [],
   "source": [
    "def promedio(a):\n",
    " print(\"Promedio de nota del curso total= \",sum(a)/len(a))\n",
    " print()"
   ]
  },
  {
   "cell_type": "markdown",
   "metadata": {},
   "source": [
    "<h3>Ejecución</h3>"
   ]
  },
  {
   "cell_type": "code",
   "execution_count": null,
   "metadata": {},
   "outputs": [],
   "source": [
    "promedio(a)"
   ]
  },
  {
   "cell_type": "markdown",
   "metadata": {},
   "source": [
    "### 4.\n",
    "Realizar una función que indique quién tuvo el promedio más alto y quién tuvo la nota promedio más baja."
   ]
  },
  {
   "cell_type": "markdown",
   "metadata": {},
   "source": [
    "<h3>Función promedio alto</h3>\n",
    "<ul>\n",
    "   <li>Parámetros:(creado anteriormente)\n",
    "       <ol>\n",
    "           <li>a:(lista)</li> \n",
    "       </ol>\n",
    "   </li>\n",
    "   <li>Parámetros:(diccionario vacio)</li>\n",
    "       <ol>\n",
    "           <li>nu:(añade el indice y notas promedio)</li> \n",
    "       </ol>\n",
    "    </li>\n",
    "</ul>"
   ]
  },
  {
   "cell_type": "code",
   "execution_count": null,
   "metadata": {},
   "outputs": [],
   "source": [
    "def pro_alto(a,nu):\n",
    "  mayor=max(a)\n",
    "  menor=min(a)\n",
    "\n",
    "  gu=[i for i in range(len(a))]\n",
    "\n",
    "  for i in gu:\n",
    "      for j in a:\n",
    "         nu[i]=j\n",
    "         a.remove(j)\n",
    "         break\n",
    "\n",
    "  for i in nu:\n",
    "      if nu[i]==mayor:\n",
    "         print(f\"La maxima nota es de {f[i]}\")\n",
    "      elif nu[i]==menor:\n",
    "         print(f\"La minima nota es de {f[i]}\")"
   ]
  },
  {
   "cell_type": "markdown",
   "metadata": {},
   "source": [
    "<h3>Creación</h3>\n",
    "<p>De los parámetros</p>"
   ]
  },
  {
   "cell_type": "code",
   "execution_count": null,
   "metadata": {},
   "outputs": [],
   "source": [
    "nu={}\n",
    "pro_alto(a,nu)"
   ]
  },
  {
   "cell_type": "markdown",
   "metadata": {},
   "source": [
    "### 5.\n",
    "Realizar una función que permita buscar un alumno por nombre, siendo el nombre completo o parcial, y devuelva una lista con los n alumnos que concuerden con ese nombre junto con todos sus datos, incluido el promedio de sus notas."
   ]
  },
  {
   "cell_type": "markdown",
   "metadata": {},
   "source": [
    "<h3>Función Nombre</h3>\n",
    "<ul>\n",
    "   <li>Parámetros:(creados anteriormente)\n",
    "       <ol>\n",
    "           <li>f:(lista)</li>\n",
    "           <li>h:(lista)\n",
    "           <li>nu:(diccionario)</li> \n",
    "       </ol>\n",
    "   </li>\n",
    "</ul>"
   ]
  },
  {
   "cell_type": "code",
   "execution_count": null,
   "metadata": {},
   "outputs": [],
   "source": [
    "def nombre(f,h,nu):\n",
    "  ga=[i for i in range(len(f))]\n",
    "  na={}\n",
    "  for i in ga:\n",
    "      for j in f:\n",
    "         na[i]=j\n",
    "         f.remove(j)\n",
    "         break\n",
    "\n",
    "  nombre=input(\"ingrese el nombre del alumno:\")\n",
    "  for i in na :\n",
    "    if na[i]==nombre:\n",
    "        print(nombre)\n",
    "        print(f\"Nota promedio: {nu[i]}\\n Notas: {h[i]}\")\n",
    "    elif na[i]!=nombre:\n",
    "        print()"
   ]
  },
  {
   "cell_type": "markdown",
   "metadata": {},
   "source": [
    "<h3>Ejecución</h3>"
   ]
  },
  {
   "cell_type": "code",
   "execution_count": null,
   "metadata": {},
   "outputs": [],
   "source": [
    "print()\n",
    "nombre(f,h,nu)"
   ]
  }
 ],
 "metadata": {
  "kernelspec": {
   "display_name": "Python 3",
   "language": "python",
   "name": "python3"
  },
  "language_info": {
   "codemirror_mode": {
    "name": "ipython",
    "version": 3
   },
   "file_extension": ".py",
   "mimetype": "text/x-python",
   "name": "python",
   "nbconvert_exporter": "python",
   "pygments_lexer": "ipython3",
   "version": "3.8.5"
  }
 },
 "nbformat": 4,
 "nbformat_minor": 4
}
